{
 "cells": [
  {
   "cell_type": "markdown",
   "source": [
    "# A* Motion Planning"
   ],
   "metadata": {}
  },
  {
   "cell_type": "code",
   "execution_count": null,
   "source": [
    "# The autoreload extension will automatically load in new code as you edit files, \r\n",
    "# so you don't need to restart the kernel every time\r\n",
    "%load_ext autoreload\r\n",
    "%autoreload 2\r\n",
    "import numpy as np\r\n",
    "import matplotlib.pyplot as plt\r\n",
    "from P1_astar import DetOccupancyGrid2D, AStar\r\n",
    "from utils import generate_planning_problem"
   ],
   "outputs": [],
   "metadata": {}
  },
  {
   "cell_type": "markdown",
   "source": [
    "## Simple Environment\n",
    "### Workspace\n",
    "(Try changing this and see what happens)"
   ],
   "metadata": {}
  },
  {
   "cell_type": "code",
   "execution_count": null,
   "source": [
    "width = 10\r\n",
    "height = 10\r\n",
    "obstacles = [((6,7),(8,8)),((2,2),(4,3)),((2,5),(4,7)),((6,3),(8,5))]\r\n",
    "occupancy = DetOccupancyGrid2D(width, height, obstacles)"
   ],
   "outputs": [],
   "metadata": {}
  },
  {
   "cell_type": "markdown",
   "source": [
    "### Starting and final positions\n",
    "(Try changing these and see what happens)"
   ],
   "metadata": {}
  },
  {
   "cell_type": "code",
   "execution_count": null,
   "source": [
    "x_init = (1, 1)\r\n",
    "x_goal = (9, 9)"
   ],
   "outputs": [],
   "metadata": {}
  },
  {
   "cell_type": "markdown",
   "source": [
    "### Run A* planning"
   ],
   "metadata": {}
  },
  {
   "cell_type": "code",
   "execution_count": null,
   "source": [
    "astar = AStar((0, 0), (width, height), x_init, x_goal, occupancy)\r\n",
    "if not astar.solve():\r\n",
    "    print(\"No path found\")\r\n",
    "else:\r\n",
    "    plt.rcParams['figure.figsize'] = [5, 5]\r\n",
    "    astar.plot_path()\r\n",
    "    astar.plot_tree()"
   ],
   "outputs": [],
   "metadata": {}
  },
  {
   "cell_type": "markdown",
   "source": [
    "## Random Cluttered Environment\n",
    "### Generate workspace, start and goal positions\n",
    "(Try changing these and see what happens)"
   ],
   "metadata": {}
  },
  {
   "cell_type": "code",
   "execution_count": null,
   "source": [
    "width = 100\r\n",
    "height = 100\r\n",
    "num_obs = 25\r\n",
    "min_size = 5\r\n",
    "max_size = 30\r\n",
    "\r\n",
    "occupancy, x_init, x_goal = generate_planning_problem(width, height, num_obs, min_size, max_size)"
   ],
   "outputs": [],
   "metadata": {}
  },
  {
   "cell_type": "markdown",
   "source": [
    "### Run A* planning"
   ],
   "metadata": {}
  },
  {
   "cell_type": "code",
   "execution_count": null,
   "source": [
    "astar = AStar((0, 0), (width, height), x_init, x_goal, occupancy)\r\n",
    "if not astar.solve():\r\n",
    "    print(\"No path found\")\r\n",
    "else:\r\n",
    "    plt.rcParams['figure.figsize'] = [10, 10]\r\n",
    "    astar.plot_path()\r\n",
    "    astar.plot_tree(point_size=2)"
   ],
   "outputs": [],
   "metadata": {}
  },
  {
   "cell_type": "code",
   "execution_count": null,
   "source": [],
   "outputs": [],
   "metadata": {}
  }
 ],
 "metadata": {
  "kernelspec": {
   "name": "python3",
   "display_name": "Python 3.8.8 64-bit ('base': conda)"
  },
  "language_info": {
   "name": "python",
   "version": "3.8.8",
   "mimetype": "text/x-python",
   "codemirror_mode": {
    "name": "ipython",
    "version": 3
   },
   "pygments_lexer": "ipython3",
   "nbconvert_exporter": "python",
   "file_extension": ".py"
  },
  "interpreter": {
   "hash": "e435f54bcc11ab81ac5c5fa3b3eb253c9243238f15ba320d0311e4cbd7789b9e"
  }
 },
 "nbformat": 4,
 "nbformat_minor": 2
}