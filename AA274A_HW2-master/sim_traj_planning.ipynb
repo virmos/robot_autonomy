{
 "cells": [
  {
   "cell_type": "code",
   "execution_count": null,
   "source": [
    "# The autoreload extension will automatically load in new code as you edit files, \r\n",
    "# so you don't need to restart the kernel every time\r\n",
    "%load_ext autoreload\r\n",
    "%autoreload 2\r\n",
    "\r\n",
    "import numpy as np\r\n",
    "from P1_astar import AStar\r\n",
    "from P2_rrt import *\r\n",
    "from P3_traj_planning import compute_smoothed_traj, modify_traj_with_limits, SwitchingController\r\n",
    "import matplotlib.pyplot as plt\r\n",
    "from HW1.P1_differential_flatness import *\r\n",
    "from HW1.P2_pose_stabilization import *\r\n",
    "from HW1.P3_trajectory_tracking import *\r\n",
    "from utils import generate_planning_problem\r\n",
    "from HW1.utils import simulate_car_dyn\r\n",
    "\r\n",
    "plt.rcParams['figure.figsize'] = [14, 14] # Change default figure size"
   ],
   "outputs": [],
   "metadata": {}
  },
  {
   "cell_type": "markdown",
   "source": [
    "### Generate workspace, start and goal positions"
   ],
   "metadata": {}
  },
  {
   "cell_type": "code",
   "execution_count": null,
   "source": [
    "width = 100\r\n",
    "height = 100\r\n",
    "num_obs = 25\r\n",
    "min_size = 5\r\n",
    "max_size = 30\r\n",
    "\r\n",
    "occupancy, x_init, x_goal = generate_planning_problem(width, height, num_obs, min_size, max_size)"
   ],
   "outputs": [],
   "metadata": {}
  },
  {
   "cell_type": "markdown",
   "source": [
    "### Solve A* planning problem"
   ],
   "metadata": {}
  },
  {
   "cell_type": "code",
   "execution_count": null,
   "source": [
    "astar = AStar((0, 0), (width, height), x_init, x_goal, occupancy)\r\n",
    "if not astar.solve():\r\n",
    "    print(\"No path found\")"
   ],
   "outputs": [],
   "metadata": {}
  },
  {
   "cell_type": "markdown",
   "source": [
    "## Smooth Trajectory Generation\n",
    "### Trajectory parameters\n",
    "(Try changing these and see what happens)"
   ],
   "metadata": {}
  },
  {
   "cell_type": "code",
   "execution_count": null,
   "source": [
    "V_des = 0.3  # Nominal velocity\r\n",
    "alpha = 0.1   # Smoothness parameter\r\n",
    "dt = 0.05"
   ],
   "outputs": [],
   "metadata": {}
  },
  {
   "cell_type": "markdown",
   "source": [
    "### Generate smoothed trajectory"
   ],
   "metadata": {}
  },
  {
   "cell_type": "code",
   "execution_count": null,
   "source": [
    "traj_smoothed, t_smoothed = compute_smoothed_traj(astar.path, V_des, alpha, dt)\r\n",
    "\r\n",
    "fig = plt.figure()\r\n",
    "astar.plot_path(fig.number)\r\n",
    "def plot_traj_smoothed(traj_smoothed):\r\n",
    "    plt.plot(traj_smoothed[:,0], traj_smoothed[:,1], color=\"red\", linewidth=2, label=\"solution path\", zorder=10)\r\n",
    "plot_traj_smoothed(traj_smoothed)\r\n",
    "plt.legend(loc='upper center', bbox_to_anchor=(0.5, -0.03), fancybox=True, ncol=3)\r\n",
    "plt.show()"
   ],
   "outputs": [],
   "metadata": {}
  },
  {
   "cell_type": "markdown",
   "source": [
    "## Control-Feasible Trajectory Generation and Tracking\n",
    "### Robot control limits"
   ],
   "metadata": {}
  },
  {
   "cell_type": "code",
   "execution_count": null,
   "source": [
    "V_max = 0.5 # max speed\r\n",
    "om_max = 1 # max rotational speed"
   ],
   "outputs": [],
   "metadata": {}
  },
  {
   "cell_type": "markdown",
   "source": [
    "### Tracking control gains\n",
    "Tune these as needed to improve tracking performance."
   ],
   "metadata": {}
  },
  {
   "cell_type": "code",
   "execution_count": null,
   "source": [
    "kpx = 2\r\n",
    "kpy = 2\r\n",
    "kdx = 2\r\n",
    "kdy = 2"
   ],
   "outputs": [],
   "metadata": {}
  },
  {
   "cell_type": "markdown",
   "source": [
    "### Generate control-feasible trajectory"
   ],
   "metadata": {}
  },
  {
   "cell_type": "code",
   "execution_count": null,
   "source": [
    "t_new, V_smooth_scaled, om_smooth_scaled, traj_smooth_scaled = modify_traj_with_limits(traj_smoothed, t_smoothed, V_max, om_max, dt)"
   ],
   "outputs": [],
   "metadata": {}
  },
  {
   "cell_type": "markdown",
   "source": [
    "### Create trajectory controller and load trajectory"
   ],
   "metadata": {}
  },
  {
   "cell_type": "code",
   "execution_count": null,
   "source": [
    "traj_controller = TrajectoryTracker(kpx=kpx, kpy=kpy, kdx=kdx, kdy=kdy, V_max=V_max, om_max=om_max)\r\n",
    "traj_controller.load_traj(t_new, traj_smooth_scaled)"
   ],
   "outputs": [],
   "metadata": {}
  },
  {
   "cell_type": "markdown",
   "source": [
    "### Set simulation input noise\n",
    "(Try changing this and see what happens)"
   ],
   "metadata": {}
  },
  {
   "cell_type": "code",
   "execution_count": null,
   "source": [
    "noise_scale = 0.05"
   ],
   "outputs": [],
   "metadata": {}
  },
  {
   "cell_type": "markdown",
   "source": [
    "### Simulate closed-loop tracking of smoothed trajectory, compare to open-loop"
   ],
   "metadata": {}
  },
  {
   "cell_type": "code",
   "execution_count": null,
   "source": [
    "tf_actual = t_new[-1]\r\n",
    "times_cl = np.arange(0, tf_actual, dt)\r\n",
    "s_0 = State(x=x_init[0], y=x_init[1], V=V_max, th=traj_smooth_scaled[0,2])\r\n",
    "s_f = State(x=x_goal[0], y=x_goal[1], V=V_max, th=traj_smooth_scaled[-1,2])\r\n",
    "\r\n",
    "actions_ol = np.stack([V_smooth_scaled, om_smooth_scaled], axis=-1)\r\n",
    "states_ol, ctrl_ol = simulate_car_dyn(s_0.x, s_0.y, s_0.th, times_cl, actions=actions_ol, noise_scale=noise_scale)\r\n",
    "states_cl, ctrl_cl = simulate_car_dyn(s_0.x, s_0.y, s_0.th, times_cl, controller=traj_controller, noise_scale=noise_scale)\r\n",
    "\r\n",
    "fig = plt.figure()\r\n",
    "astar.plot_path(fig.number)\r\n",
    "plot_traj_smoothed(traj_smoothed)\r\n",
    "def plot_traj_ol(states_ol):\r\n",
    "    plt.plot(states_ol[:,0],states_ol[:,1], color=\"orange\", linewidth=1, label=\"open-loop path\", zorder=10)\r\n",
    "def plot_traj_cl(states_cl):\r\n",
    "    plt.plot(states_cl[:,0], states_cl[:,1], color=\"purple\", linewidth=1, label=\"TrajController closed-loop path\", zorder=10)\r\n",
    "plot_traj_ol(states_ol)\r\n",
    "plot_traj_cl(states_cl)\r\n",
    "plt.legend(loc='upper center', bbox_to_anchor=(0.5, -0.03), fancybox=True, ncol=4)\r\n",
    "plt.show()"
   ],
   "outputs": [],
   "metadata": {}
  },
  {
   "cell_type": "markdown",
   "source": [
    "## Switching from Trajectory Tracking to Pose Stabilization Control\n",
    "### Zoom in on final pose error"
   ],
   "metadata": {}
  },
  {
   "cell_type": "code",
   "execution_count": null,
   "source": [
    "l_window = 4.\r\n",
    "\r\n",
    "fig = plt.figure(figsize=[7,7])\r\n",
    "astar.plot_path(fig.number, show_init_label = False)\r\n",
    "plot_traj_smoothed(traj_smoothed)\r\n",
    "plot_traj_cl(states_cl)\r\n",
    "plt.legend(loc='upper center', bbox_to_anchor=(0.5, -0.03), fancybox=True, ncol=3)\r\n",
    "plt.axis([x_goal[0]-l_window/2, x_goal[0]+l_window/2, x_goal[1]-l_window/2, x_goal[1]+l_window/2])\r\n",
    "plt.show()"
   ],
   "outputs": [],
   "metadata": {}
  },
  {
   "cell_type": "markdown",
   "source": [
    "### Pose stabilization control gains\n",
    "Tune these as needed to improve final pose stabilization."
   ],
   "metadata": {}
  },
  {
   "cell_type": "code",
   "execution_count": null,
   "source": [
    "k1 = 1.\r\n",
    "k2 = 1.\r\n",
    "k3 = 1."
   ],
   "outputs": [],
   "metadata": {}
  },
  {
   "cell_type": "markdown",
   "source": [
    "### Create pose controller and load goal pose\n",
    "Note we use the last value of the smoothed trajectory as the goal heading $\\theta$"
   ],
   "metadata": {}
  },
  {
   "cell_type": "code",
   "execution_count": null,
   "source": [
    "pose_controller = PoseController(k1, k2, k3, V_max, om_max)\r\n",
    "pose_controller.load_goal(x_goal[0], x_goal[1], traj_smooth_scaled[-1,2])"
   ],
   "outputs": [],
   "metadata": {}
  },
  {
   "cell_type": "markdown",
   "source": [
    "### Time before trajectory-tracking completion to switch to pose stabilization\n",
    "Try changing this!"
   ],
   "metadata": {}
  },
  {
   "cell_type": "code",
   "execution_count": null,
   "source": [
    "t_before_switch = 5.0"
   ],
   "outputs": [],
   "metadata": {}
  },
  {
   "cell_type": "markdown",
   "source": [
    "### Create switching controller and compare performance"
   ],
   "metadata": {}
  },
  {
   "cell_type": "code",
   "execution_count": null,
   "source": [
    "switching_controller = SwitchingController(traj_controller, pose_controller, t_before_switch)\r\n",
    "\r\n",
    "t_extend = 60.0 # Extra time to simulate after the end of the nominal trajectory\r\n",
    "times_cl_extended = np.arange(0, tf_actual+t_extend, dt)\r\n",
    "states_cl_sw, ctrl_cl_sw = simulate_car_dyn(s_0.x, s_0.y, s_0.th, times_cl_extended, controller=switching_controller, noise_scale=noise_scale)\r\n",
    "\r\n",
    "fig = plt.figure()\r\n",
    "astar.plot_path(fig.number)\r\n",
    "plot_traj_smoothed(traj_smoothed)\r\n",
    "plot_traj_cl(states_cl)\r\n",
    "def plot_traj_cl_sw(states_cl_sw):\r\n",
    "    plt.plot(states_cl_sw[:,0], states_cl_sw[:,1], color=\"black\", linewidth=1, label=\"SwitchingController closed-loop path\", zorder=10)\r\n",
    "plot_traj_cl_sw(states_cl_sw)\r\n",
    "plt.legend(loc='upper center', bbox_to_anchor=(0.5, -0.03), fancybox=True, ncol=3)\r\n",
    "plt.show()"
   ],
   "outputs": [],
   "metadata": {}
  },
  {
   "cell_type": "markdown",
   "source": [
    "### Zoom in on final pose"
   ],
   "metadata": {}
  },
  {
   "cell_type": "code",
   "execution_count": null,
   "source": [
    "l_window = 4.\r\n",
    "\r\n",
    "fig = plt.figure(figsize=[7,7])\r\n",
    "astar.plot_path(fig.number, show_init_label = False)\r\n",
    "plot_traj_smoothed(traj_smoothed)\r\n",
    "plot_traj_ol(states_ol)\r\n",
    "plot_traj_cl(states_cl)\r\n",
    "plot_traj_cl_sw(states_cl_sw)\r\n",
    "plt.legend(loc='upper center', bbox_to_anchor=(0.5, -0.03), fancybox=True, ncol=3)\r\n",
    "plt.axis([x_goal[0]-l_window/2, x_goal[0]+l_window/2, x_goal[1]-l_window/2, x_goal[1]+l_window/2])\r\n",
    "plt.show()"
   ],
   "outputs": [],
   "metadata": {}
  },
  {
   "cell_type": "markdown",
   "source": [
    "### Plot final sequence of states\n",
    "To see just how well we're able to arrive at the target point (and to assist in choosing values for the pose stabilization controller gains $k_1,k_2,k_3$), we plot the error in $x$ and $y$ for both the tracking controller and the switching controller at the end of the trajectory."
   ],
   "metadata": {}
  },
  {
   "cell_type": "code",
   "execution_count": null,
   "source": [
    "T = len(times_cl) - int(t_before_switch/dt)\r\n",
    "fig = plt.figure(figsize=[10,10])\r\n",
    "plt.subplot(2,1,1)\r\n",
    "plt.plot([times_cl_extended[T], times_cl_extended[-1]], [0,0], linestyle='--', linewidth=1)\r\n",
    "plt.plot(times_cl[T:], states_cl[T:,0] - x_goal[0], label='TrajController')\r\n",
    "plt.plot(times_cl_extended[T:], states_cl_sw[T:,0] - x_goal[0], label='SwitchingController')\r\n",
    "plt.legend()\r\n",
    "plt.ylabel(\"x error (m)\")\r\n",
    "plt.subplot(2,1,2)\r\n",
    "plt.plot([times_cl_extended[T], times_cl_extended[-1]], [0,0], linestyle='--', linewidth=1)\r\n",
    "plt.plot(times_cl[T:], states_cl[T:,1] - x_goal[1], label='TrajController')\r\n",
    "plt.plot(times_cl_extended[T:], states_cl_sw[T:,1] - x_goal[1], label='SwitchingController')\r\n",
    "plt.legend()\r\n",
    "plt.ylabel(\"y error (m)\")"
   ],
   "outputs": [],
   "metadata": {}
  },
  {
   "cell_type": "code",
   "execution_count": null,
   "source": [],
   "outputs": [],
   "metadata": {}
  }
 ],
 "metadata": {
  "kernelspec": {
   "name": "python3",
   "display_name": "Python 3.8.8 64-bit ('base': conda)"
  },
  "language_info": {
   "name": "python",
   "version": "3.8.8",
   "mimetype": "text/x-python",
   "codemirror_mode": {
    "name": "ipython",
    "version": 3
   },
   "pygments_lexer": "ipython3",
   "nbconvert_exporter": "python",
   "file_extension": ".py"
  },
  "interpreter": {
   "hash": "e435f54bcc11ab81ac5c5fa3b3eb253c9243238f15ba320d0311e4cbd7789b9e"
  }
 },
 "nbformat": 4,
 "nbformat_minor": 2
}